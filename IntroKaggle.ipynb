{
 "cells": [
  {
   "cell_type": "markdown",
   "metadata": {},
   "source": [
    "# Para iniciar con Python"
   ]
  },
  {
   "cell_type": "markdown",
   "metadata": {},
   "source": [
    "## Introducción a Python: Competencia del Titanic de Kaggle"
   ]
  },
  {
   "cell_type": "markdown",
   "metadata": {},
   "source": [
    "### Python: La lectura en train.csv"
   ]
  },
  {
   "cell_type": "markdown",
   "metadata": {},
   "source": [
    "Python tiene un lector csv agradable, que lee cada línea de un archivo en la memoria. Se puede leer en cada fila y simplemente adjuntar una lista. A partir de ahí, se puede convertir rápidamente en una matriz."
   ]
  },
  {
   "cell_type": "code",
   "execution_count": 5,
   "metadata": {
    "collapsed": true
   },
   "outputs": [],
   "source": [
    "# Lo primero que hay que hacer es importar los paquetes relevantes\n",
    "# que necesitaré para mi script, Estos incluyen el Numpy\n",
    "# (para calculos y arreglos) y csv para la lectura y escritura\n",
    "# de archivos csv si quiero usar algo de esto tengo que llamar\n",
    "# csv.[funcion] o np.[funcion]\n",
    "\n",
    "import csv as csv \n",
    "import numpy as np\n",
    "\n",
    "# Abre el archivo CSV en un objeto de Python\n",
    "csv_file_object = csv.reader(open('/home/juanmanuel/Desktop/IntroKaggle/train.csv', 'rb')) \n",
    "header = csv_file_object.next() # El comando next() omite la primer linea la cual es la cabezera.\n",
    "data = []                       # Se crea una variable de nombre data\n",
    "for row in csv_file_object:     # Recorre cada renglon de el archivo csv \n",
    "    data.append(row)            # agrega cada renglon a la variable data\n",
    "data = np.array(data) \t        # Luego convierte la lista en un arreglo\n",
    "                                # Tenga en cuenta que cada elemento es actualmente una cadena en este formato"
   ]
  },
  {
   "cell_type": "markdown",
   "metadata": {},
   "source": [
    "A pesar de que usted ha visto estos datos antes en Excel, sólo para estar seguro vamos a ver cómo se almacena ahora en Python. Escriba print data y la salida debe ser algo como:"
   ]
  },
  {
   "cell_type": "code",
   "execution_count": 6,
   "metadata": {
    "collapsed": false
   },
   "outputs": [
    {
     "name": "stdout",
     "output_type": "stream",
     "text": [
      "[['1' '0' '3' ..., '7.25' '' 'S']\n",
      " ['2' '1' '1' ..., '71.2833' 'C85' 'C']\n",
      " ['3' '1' '3' ..., '7.925' '' 'S']\n",
      " ..., \n",
      " ['889' '0' '3' ..., '23.45' '' 'S']\n",
      " ['890' '1' '1' ..., '30' 'C148' 'C']\n",
      " ['891' '0' '3' ..., '7.75' '' 'Q']]\n"
     ]
    }
   ],
   "source": [
    "print data"
   ]
  },
  {
   "cell_type": "markdown",
   "metadata": {},
   "source": [
    "Usted puede ver que esto es sólo una matriz con los valores (sin la cabecera descriptiva). Y se puede ver que cada valor se muestra en las comillas, lo que significa que se almacena como una cadena. Por desgracia, en la salida anterior, el conjunto de columnas se va oscureciendo con \"...\", así que vamos a imprimir la primera fila para ver con claridad. Escribe print data[0]"
   ]
  },
  {
   "cell_type": "code",
   "execution_count": 7,
   "metadata": {
    "collapsed": false
   },
   "outputs": [
    {
     "name": "stdout",
     "output_type": "stream",
     "text": [
      "['1' '0' '3' 'Braund, Mr. Owen Harris' 'male' '22' '1' '0' 'A/5 21171'\n",
      " '7.25' '' 'S']\n"
     ]
    }
   ],
   "source": [
    "print data[0]"
   ]
  },
  {
   "cell_type": "markdown",
   "metadata": {},
   "source": [
    "y para ver el último renglon, Escribe print data[-1]"
   ]
  },
  {
   "cell_type": "code",
   "execution_count": 8,
   "metadata": {
    "collapsed": false
   },
   "outputs": [
    {
     "name": "stdout",
     "output_type": "stream",
     "text": [
      "['891' '0' '3' 'Dooley, Mr. Patrick' 'male' '32' '0' '0' '370376' '7.75' ''\n",
      " 'Q']\n"
     ]
    }
   ],
   "source": [
    "print data[-1]"
   ]
  },
  {
   "cell_type": "markdown",
   "metadata": {},
   "source": [
    "y para ver el renglon 1, columna 4, Escribe print data[0, 3]"
   ]
  },
  {
   "cell_type": "code",
   "execution_count": 9,
   "metadata": {
    "collapsed": false
   },
   "outputs": [
    {
     "name": "stdout",
     "output_type": "stream",
     "text": [
      "Braund, Mr. Owen Harris\n"
     ]
    }
   ],
   "source": [
    "print data[0, 3]"
   ]
  },
  {
   "cell_type": "markdown",
   "metadata": {},
   "source": [
    "### Tengo mis datos ahora quiero jugar con ellos"
   ]
  },
  {
   "cell_type": "markdown",
   "metadata": {},
   "source": [
    "Ahora bien, si desea llamar a una columna específica de los datos, por ejemplo, la columna de género, puede simplemente escribir data[0::,4], recordando que \"0::\" significa todo (de principio a fin), y Python comienza a recorrer los índices de 0 (no 1). Debes tener en cuenta que el lector csv funciona por defecto con cadenas, por lo que tendrás que convertir las variables de tipo float con el fin de hacer cálculos numéricos. Por ejemplo puedes transformar la variable Pclass de float a cadena utilizando data[0::,2].astype(np.float). Usando esto, podemos calcular la proporción de sobrevivientes del Titanic:"
   ]
  },
  {
   "cell_type": "code",
   "execution_count": 11,
   "metadata": {
    "collapsed": true
   },
   "outputs": [],
   "source": [
    "# La funcion size() cuenta cuántos elementos hay en \n",
    "# el arreglo y la funcion sum() (Como es de esperarse)\n",
    "# Suma los elementos del arreglo\n",
    "\n",
    "number_passengers = np.size(data[0::,1].astype(np.float))\n",
    "number_survived = np.sum(data[0::,1].astype(np.float))\n",
    "proportion_survivors = number_survived / number_passengers"
   ]
  },
  {
   "cell_type": "markdown",
   "metadata": {},
   "source": [
    "Numpy tiene algunas funciones preciosas. Por ejemplo, podemos buscar la columna de género, donde encontrará todos los elementos iguales a femenino (Y para masculino, 'No son iguales a femenino') y luego usar esto para determinar el número de mujeres y hombres que sobrevivieron:"
   ]
  },
  {
   "cell_type": "code",
   "execution_count": 13,
   "metadata": {
    "collapsed": true
   },
   "outputs": [],
   "source": [
    "women_only_stats = data[0::,4] == \"female\" # Esto encuentra donde todos\n",
    "                                           # los elementos en la columna\n",
    "                                           # genero son iguales a \"femenino\"\n",
    "men_only_stats = data[0::,4] != \"female\"   # Esto encuentra donde todos\n",
    "                                           # los elementos no son iguales \n",
    "                                           # femenino (Por ejemplo masculino)"
   ]
  }
 ],
 "metadata": {
  "kernelspec": {
   "display_name": "Python 2",
   "language": "python",
   "name": "python2"
  },
  "language_info": {
   "codemirror_mode": {
    "name": "ipython",
    "version": 2
   },
   "file_extension": ".py",
   "mimetype": "text/x-python",
   "name": "python",
   "nbconvert_exporter": "python",
   "pygments_lexer": "ipython2",
   "version": "2.7.11"
  }
 },
 "nbformat": 4,
 "nbformat_minor": 0
}
